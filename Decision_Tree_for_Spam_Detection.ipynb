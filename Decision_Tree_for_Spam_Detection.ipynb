{
 "cells": [
  {
   "cell_type": "markdown",
   "metadata": {},
   "source": [
    "# Construction d'un arbre de décision pour la classification des emails en Spam/Non-Spam"
   ]
  },
  {
   "cell_type": "markdown",
   "metadata": {},
   "source": [
    "Dans ce notebook, nous allons construire un arbre de décision à partir d'un jeu de données pour classifier les emails en Spam ou Non-Spam. Nous utiliserons l'entropie comme mesure d'impureté et calculerons le gain d'information pour déterminer le meilleur attribut à chaque étape."
   ]
  },
  {
   "cell_type": "markdown",
   "metadata": {},
   "source": [
    "## Importation des bibliothèques nécessaires"
   ]
  },
  {
   "cell_type": "code",
   "execution_count": 1,
   "metadata": {},
   "outputs": [],
   "source": [
    "import pandas as pd\n",
    "import numpy as np\n",
    "import math\n",
    "from collections import Counter\n",
    "import matplotlib.pyplot as plt\n",
    "from sklearn import tree\n",
    "import graphviz"
   ]
  },
  {
   "cell_type": "markdown",
   "metadata": {},
   "source": [
    "## Chargement des données dans un DataFrame pandas"
   ]
  },
  {
   "cell_type": "code",
   "execution_count": 2,
   "metadata": {},
   "outputs": [
    {
     "data": {
      "text/html": [
       "<div>\n",
       "<style scoped>\n",
       "    .dataframe tbody tr th:only-of-type {\n",
       "        vertical-align: middle;\n",
       "    }\n",
       "\n",
       "    .dataframe tbody tr th {\n",
       "        vertical-align: top;\n",
       "    }\n",
       "\n",
       "    .dataframe thead th {\n",
       "        text-align: right;\n",
       "    }\n",
       "</style>\n",
       "<table border=\"1\" class=\"dataframe\">\n",
       "  <thead>\n",
       "    <tr style=\"text-align: right;\">\n",
       "      <th></th>\n",
       "      <th>Index</th>\n",
       "      <th>Contient 'gratuit'</th>\n",
       "      <th>Liens &gt; 3</th>\n",
       "      <th>Expéditeur inconnu</th>\n",
       "      <th>Spam/Non-Spam</th>\n",
       "    </tr>\n",
       "  </thead>\n",
       "  <tbody>\n",
       "    <tr>\n",
       "      <th>0</th>\n",
       "      <td>1</td>\n",
       "      <td>Oui</td>\n",
       "      <td>Non</td>\n",
       "      <td>Oui</td>\n",
       "      <td>Spam</td>\n",
       "    </tr>\n",
       "    <tr>\n",
       "      <th>1</th>\n",
       "      <td>2</td>\n",
       "      <td>Non</td>\n",
       "      <td>Oui</td>\n",
       "      <td>Non</td>\n",
       "      <td>Non-Spam</td>\n",
       "    </tr>\n",
       "    <tr>\n",
       "      <th>2</th>\n",
       "      <td>3</td>\n",
       "      <td>Non</td>\n",
       "      <td>Oui</td>\n",
       "      <td>Oui</td>\n",
       "      <td>Spam</td>\n",
       "    </tr>\n",
       "    <tr>\n",
       "      <th>3</th>\n",
       "      <td>4</td>\n",
       "      <td>Oui</td>\n",
       "      <td>Oui</td>\n",
       "      <td>Non</td>\n",
       "      <td>Spam</td>\n",
       "    </tr>\n",
       "    <tr>\n",
       "      <th>4</th>\n",
       "      <td>5</td>\n",
       "      <td>Non</td>\n",
       "      <td>Non</td>\n",
       "      <td>Non</td>\n",
       "      <td>Non-Spam</td>\n",
       "    </tr>\n",
       "    <tr>\n",
       "      <th>5</th>\n",
       "      <td>6</td>\n",
       "      <td>Non</td>\n",
       "      <td>Non</td>\n",
       "      <td>Oui</td>\n",
       "      <td>Non-Spam</td>\n",
       "    </tr>\n",
       "  </tbody>\n",
       "</table>\n",
       "</div>"
      ],
      "text/plain": [
       "   Index Contient 'gratuit' Liens > 3 Expéditeur inconnu Spam/Non-Spam\n",
       "0      1                Oui       Non                Oui          Spam\n",
       "1      2                Non       Oui                Non      Non-Spam\n",
       "2      3                Non       Oui                Oui          Spam\n",
       "3      4                Oui       Oui                Non          Spam\n",
       "4      5                Non       Non                Non      Non-Spam\n",
       "5      6                Non       Non                Oui      Non-Spam"
      ]
     },
     "execution_count": 2,
     "metadata": {},
     "output_type": "execute_result"
    }
   ],
   "source": [
    "# Créer le DataFrame\n",
    "data = {\n",
    "    \"Index\": [1, 2, 3, 4, 5, 6],\n",
    "    \"Contient 'gratuit'\": [\"Oui\", \"Non\", \"Non\", \"Oui\", \"Non\", \"Non\"],\n",
    "    \"Liens > 3\": [\"Non\", \"Oui\", \"Oui\", \"Oui\", \"Non\", \"Non\"],\n",
    "    \"Expéditeur inconnu\": [\"Oui\", \"Non\", \"Oui\", \"Non\", \"Non\", \"Oui\"],\n",
    "    \"Spam/Non-Spam\": [\"Spam\", \"Non-Spam\", \"Spam\", \"Spam\", \"Non-Spam\", \"Non-Spam\"]\n",
    "}\n",
    "\n",
    "df = pd.DataFrame(data)\n",
    "\n",
    "# Afficher le DataFrame\n",
    "df"
   ]
  },
  {
   "cell_type": "markdown",
   "metadata": {},
   "source": [
    "## Fonction pour calculer l'entropie"
   ]
  },
  {
   "cell_type": "code",
   "execution_count": 3,
   "metadata": {},
   "outputs": [],
   "source": [
    "def calculer_entropie(valeurs):\n",
    "    compteur = Counter(valeurs)\n",
    "    total = len(valeurs)\n",
    "    entropie = 0\n",
    "    for count in compteur.values():\n",
    "        prob = count / total\n",
    "        entropie -= prob * math.log2(prob)\n",
    "    return entropie"
   ]
  },
  {
   "cell_type": "markdown",
   "metadata": {},
   "source": [
    "## Fonction pour calculer le gain d'information"
   ]
  },
  {
   "cell_type": "code",
   "execution_count": 4,
   "metadata": {},
   "outputs": [],
   "source": [
    "def calculer_gain_information(df, attribut, cible):\n",
    "    entropie_initiale = calculer_entropie(df[cible])\n",
    "    valeurs_attribut = df[attribut].unique()\n",
    "    entropie_apres_division = 0\n",
    "    for valeur in valeurs_attribut:\n",
    "        sous_ensemble = df[df[attribut] == valeur]\n",
    "        poids = len(sous_ensemble) / len(df)\n",
    "        entropie_sous_ensemble = calculer_entropie(sous_ensemble[cible])\n",
    "        entropie_apres_division += poids * entropie_sous_ensemble\n",
    "    gain_information = entropie_initiale - entropie_apres_division\n",
    "    return gain_information\n"
   ]
  },
  {
   "cell_type": "markdown",
   "metadata": {},
   "source": [
    "## Calcul de l'entropie initiale du jeu de données"
   ]
  },
  {
   "cell_type": "code",
   "execution_count": 5,
   "metadata": {},
   "outputs": [
    {
     "name": "stdout",
     "output_type": "stream",
     "text": [
      "Entropie initiale du jeu de données : 1.000\n"
     ]
    }
   ],
   "source": [
    "entropie_initiale = calculer_entropie(df['Spam/Non-Spam'])\n",
    "print(f\"Entropie initiale du jeu de données : {entropie_initiale:.3f}\")"
   ]
  },
  {
   "cell_type": "markdown",
   "metadata": {},
   "source": [
    "## Calcul du gain d'information pour chaque attribut"
   ]
  },
  {
   "cell_type": "code",
   "execution_count": 6,
   "metadata": {},
   "outputs": [
    {
     "name": "stdout",
     "output_type": "stream",
     "text": [
      "Gain d'information pour Contient 'gratuit' : 0.459\n",
      "Gain d'information pour Liens > 3 : 0.082\n",
      "Gain d'information pour Expéditeur inconnu : 0.082\n"
     ]
    }
   ],
   "source": [
    "attributs = [\"Contient 'gratuit'\", \"Liens > 3\", \"Expéditeur inconnu\"]\n",
    "cible = 'Spam/Non-Spam'\n",
    "\n",
    "gains = {}\n",
    "for attribut in attributs:\n",
    "    gain = calculer_gain_information(df, attribut, cible)\n",
    "    gains[attribut] = gain\n",
    "    print(f\"Gain d'information pour {attribut} : {gain:.3f}\")\n"
   ]
  },
  {
   "cell_type": "markdown",
   "metadata": {},
   "source": [
    "Conclusion :\n",
    "- L'attribut avec le gain d'information le plus élevé est Contient 'gratuit'."
   ]
  },
  {
   "cell_type": "markdown",
   "metadata": {},
   "source": [
    "## Division du jeu de données en fonction de \"Contient_gratuit\""
   ]
  },
  {
   "cell_type": "code",
   "execution_count": 7,
   "metadata": {},
   "outputs": [],
   "source": [
    "# Création des sous-ensembles\n",
    "df_oui = df[df[\"Contient 'gratuit'\"] == 'Oui']\n",
    "df_non = df[df[\"Contient 'gratuit'\"] == 'Non']"
   ]
  },
  {
   "cell_type": "markdown",
   "metadata": {},
   "source": [
    "### Calcul de l'entropie des sous-ensembles"
   ]
  },
  {
   "cell_type": "code",
   "execution_count": 8,
   "metadata": {},
   "outputs": [
    {
     "name": "stdout",
     "output_type": "stream",
     "text": [
      "Entropie du sous-ensemble Contient_gratuit=Oui : 0.000\n",
      "Entropie du sous-ensemble Contient_gratuit=Non : 0.811\n"
     ]
    }
   ],
   "source": [
    "entropie_oui = calculer_entropie(df_oui[cible])\n",
    "entropie_non = calculer_entropie(df_non[cible])\n",
    "\n",
    "print(f\"Entropie du sous-ensemble Contient_gratuit=Oui : {entropie_oui:.3f}\")\n",
    "print(f\"Entropie du sous-ensemble Contient_gratuit=Non : {entropie_non:.3f}\")\n"
   ]
  },
  {
   "cell_type": "markdown",
   "metadata": {},
   "source": [
    "Interprétation :\n",
    "- Le sous-ensemble où \"Contient 'gratuit'\" = Oui est pur (Entropie = 0), tous les emails sont des Spam.\n",
    "- Le sous-ensemble où \"Contient 'gratuit'\" = Non n'est pas pur, nous devons continuer à le subdiviser."
   ]
  },
  {
   "cell_type": "markdown",
   "metadata": {},
   "source": [
    "## Calcul du gain d'information pour le sous-ensemble \"Contient 'gratuit'\" = Non"
   ]
  },
  {
   "cell_type": "code",
   "execution_count": 9,
   "metadata": {},
   "outputs": [
    {
     "name": "stdout",
     "output_type": "stream",
     "text": [
      "Gain d'information pour Liens > 3 dans le sous-ensemble Contient_gratuit=Non : 0.311\n",
      "Gain d'information pour Expéditeur inconnu dans le sous-ensemble Contient_gratuit=Non : 0.311\n"
     ]
    }
   ],
   "source": [
    "# Attributs restants\n",
    "attributs_restants = [\"Liens > 3\", \"Expéditeur inconnu\"]\n",
    "\n",
    "# Calcul du gain d'information dans le sous-ensemble\n",
    "gains_sous_ensemble = {}\n",
    "for attribut in attributs_restants:\n",
    "    gain = calculer_gain_information(df_non, attribut, cible)\n",
    "    gains_sous_ensemble[attribut] = gain\n",
    "    print(f\"Gain d'information pour {attribut} dans le sous-ensemble Contient_gratuit=Non : {gain:.3f}\")\n"
   ]
  },
  {
   "cell_type": "markdown",
   "metadata": {},
   "source": [
    "Conclusion : \n",
    "- Les deux attributs offrent le même gain d'information. Nous pouvons choisir l'un ou l'autre. Choisissons \"Liens > 3\"."
   ]
  },
  {
   "cell_type": "markdown",
   "metadata": {},
   "source": [
    "### Division du sous-ensemble en fonction de \"Liens_sup_3\""
   ]
  },
  {
   "cell_type": "code",
   "execution_count": 10,
   "metadata": {},
   "outputs": [],
   "source": [
    "df_non_oui = df_non[df_non[\"Liens > 3\"] == 'Oui']\n",
    "df_non_non = df_non[df_non[\"Expéditeur inconnu\"] == 'Non']"
   ]
  },
  {
   "cell_type": "markdown",
   "metadata": {},
   "source": [
    "### Calcul de l'entropie des nouveaux sous-ensembles"
   ]
  },
  {
   "cell_type": "code",
   "execution_count": 11,
   "metadata": {},
   "outputs": [
    {
     "name": "stdout",
     "output_type": "stream",
     "text": [
      "Entropie du sous-ensemble Liens_sup_3=Oui : 1.000\n",
      "Entropie du sous-ensemble Liens_sup_3=Non : 0.000\n"
     ]
    }
   ],
   "source": [
    "entropie_non_oui = calculer_entropie(df_non_oui[cible])\n",
    "entropie_non_non = calculer_entropie(df_non_non[cible])\n",
    "\n",
    "print(f\"Entropie du sous-ensemble Liens_sup_3=Oui : {entropie_non_oui:.3f}\")\n",
    "print(f\"Entropie du sous-ensemble Liens_sup_3=Non : {entropie_non_non:.3f}\")"
   ]
  },
  {
   "cell_type": "markdown",
   "metadata": {},
   "source": [
    "Interprétation :\n",
    "- Le sous-ensemble où \"Liens_sup_3\" = Non est pur (Non-Spam).\n",
    "- Le sous-ensemble où \"Liens_sup_3\" = Oui n'est pas pur, nous devons continuer à le subdiviser."
   ]
  },
  {
   "cell_type": "markdown",
   "metadata": {},
   "source": [
    "## Pour le sous-ensemble \"Liens > 3\" = Oui, nous utilisons \"Expediteur_inconnu\""
   ]
  },
  {
   "cell_type": "code",
   "execution_count": 12,
   "metadata": {},
   "outputs": [],
   "source": [
    "df_non_oui_oui = df_non_oui[df_non_oui[\"Expéditeur inconnu\"] == 'Oui']\n",
    "df_non_oui_non = df_non_oui[df_non_oui[\"Expéditeur inconnu\"] == 'Non']"
   ]
  },
  {
   "cell_type": "markdown",
   "metadata": {},
   "source": [
    "### Calcul de l'entropie des derniers sous-ensembles"
   ]
  },
  {
   "cell_type": "code",
   "execution_count": 13,
   "metadata": {},
   "outputs": [
    {
     "name": "stdout",
     "output_type": "stream",
     "text": [
      "Entropie du sous-ensemble Expediteur_inconnu=Oui : 0.000\n",
      "Entropie du sous-ensemble Expediteur_inconnu=Non : 0.000\n"
     ]
    }
   ],
   "source": [
    "entropie_non_oui_oui = calculer_entropie(df_non_oui_oui[cible])\n",
    "entropie_non_oui_non = calculer_entropie(df_non_oui_non[cible])\n",
    "\n",
    "print(f\"Entropie du sous-ensemble Expediteur_inconnu=Oui : {entropie_non_oui_oui:.3f}\")\n",
    "print(f\"Entropie du sous-ensemble Expediteur_inconnu=Non : {entropie_non_oui_non:.3f}\")\n"
   ]
  },
  {
   "cell_type": "markdown",
   "metadata": {},
   "source": [
    "Interprétation :\n",
    "- Les deux sous-ensembles sont purs."
   ]
  },
  {
   "cell_type": "markdown",
   "metadata": {},
   "source": [
    "## Arbre de décision final"
   ]
  },
  {
   "cell_type": "code",
   "execution_count": 14,
   "metadata": {},
   "outputs": [],
   "source": [
    "# Pour représenter l'arbre, nous allons encoder les variables catégorielles\n",
    "from sklearn.preprocessing import LabelEncoder\n",
    "\n",
    "# Copie du DataFrame original\n",
    "df_encoded = df.copy()\n",
    "\n",
    "# Encodage des variables catégorielles\n",
    "label_encoders = {}\n",
    "for column in [\"Contient 'gratuit'\", \"Liens > 3\", \"Expéditeur inconnu\", \"Spam/Non-Spam\"]:\n",
    "    le = LabelEncoder()\n",
    "    df_encoded[column] = le.fit_transform(df_encoded[column])\n",
    "    label_encoders[column] = le\n",
    "\n",
    "# Séparation des caractéristiques et de la cible\n",
    "X = df_encoded[[\"Contient 'gratuit'\", \"Liens > 3\", \"Expéditeur inconnu\"]]\n",
    "y = df_encoded[\"Spam/Non-Spam\"]\n",
    "\n",
    "# Création de l'arbre de décision\n",
    "clf = tree.DecisionTreeClassifier(criterion='entropy')\n",
    "clf = clf.fit(X, y)"
   ]
  },
  {
   "cell_type": "markdown",
   "metadata": {},
   "source": [
    "### Visualisation de l'arbre de décision"
   ]
  },
  {
   "cell_type": "code",
   "execution_count": 16,
   "metadata": {},
   "outputs": [
    {
     "ename": "KeyError",
     "evalue": "'Spam_Non_Spam'",
     "output_type": "error",
     "traceback": [
      "\u001b[1;31m---------------------------------------------------------------------------\u001b[0m",
      "\u001b[1;31mKeyError\u001b[0m                                  Traceback (most recent call last)",
      "Cell \u001b[1;32mIn[16], line 3\u001b[0m\n\u001b[0;32m      1\u001b[0m \u001b[38;5;66;03m# Création des noms des features et des classes\u001b[39;00m\n\u001b[0;32m      2\u001b[0m feature_names \u001b[38;5;241m=\u001b[39m [\u001b[38;5;124m\"\u001b[39m\u001b[38;5;124mContient_gratuit\u001b[39m\u001b[38;5;124m\"\u001b[39m, \u001b[38;5;124m\"\u001b[39m\u001b[38;5;124mLiens_3\u001b[39m\u001b[38;5;124m\"\u001b[39m, \u001b[38;5;124m\"\u001b[39m\u001b[38;5;124mExpediteur_inconnu\u001b[39m\u001b[38;5;124m\"\u001b[39m]\n\u001b[1;32m----> 3\u001b[0m class_names \u001b[38;5;241m=\u001b[39m \u001b[43mlabel_encoders\u001b[49m\u001b[43m[\u001b[49m\u001b[38;5;124;43m\"\u001b[39;49m\u001b[38;5;124;43mSpam_Non_Spam\u001b[39;49m\u001b[38;5;124;43m\"\u001b[39;49m\u001b[43m]\u001b[49m\u001b[38;5;241m.\u001b[39minverse_transform([\u001b[38;5;241m0\u001b[39m,\u001b[38;5;241m1\u001b[39m])\n\u001b[0;32m      5\u001b[0m \u001b[38;5;66;03m# Exportation de l'arbre au format DOT\u001b[39;00m\n\u001b[0;32m      6\u001b[0m dot_data \u001b[38;5;241m=\u001b[39m tree\u001b[38;5;241m.\u001b[39mexport_graphviz(clf, out_file\u001b[38;5;241m=\u001b[39m\u001b[38;5;28;01mNone\u001b[39;00m,\n\u001b[0;32m      7\u001b[0m                                 feature_names\u001b[38;5;241m=\u001b[39mfeature_names,\n\u001b[0;32m      8\u001b[0m                                 class_names\u001b[38;5;241m=\u001b[39mclass_names,\n\u001b[0;32m      9\u001b[0m                                 filled\u001b[38;5;241m=\u001b[39m\u001b[38;5;28;01mTrue\u001b[39;00m, rounded\u001b[38;5;241m=\u001b[39m\u001b[38;5;28;01mTrue\u001b[39;00m,\n\u001b[0;32m     10\u001b[0m                                 special_characters\u001b[38;5;241m=\u001b[39m\u001b[38;5;28;01mTrue\u001b[39;00m)\n",
      "\u001b[1;31mKeyError\u001b[0m: 'Spam_Non_Spam'"
     ]
    }
   ],
   "source": [
    "# Création des noms des features et des classes\n",
    "feature_names = [\"Contient_gratuit\", \"Liens_3\", \"Expediteur_inconnu\"]\n",
    "class_names = label_encoders[\"Spam/Non-Spam\"].inverse_transform([0,1])\n",
    "\n",
    "# Exportation de l'arbre au format DOT\n",
    "dot_data = tree.export_graphviz(clf, out_file=None,\n",
    "                                feature_names=feature_names,\n",
    "                                class_names=class_names,\n",
    "                                filled=True, rounded=True,\n",
    "                                special_characters=True)\n",
    "\n",
    "# Affichage de l'arbre\n",
    "graph = graphviz.Source(dot_data)\n",
    "graph"
   ]
  }
 ],
 "metadata": {
  "kernelspec": {
   "display_name": "Python 3",
   "language": "python",
   "name": "python3"
  },
  "language_info": {
   "codemirror_mode": {
    "name": "ipython",
    "version": 3
   },
   "file_extension": ".py",
   "mimetype": "text/x-python",
   "name": "python",
   "nbconvert_exporter": "python",
   "pygments_lexer": "ipython3",
   "version": "3.12.6"
  }
 },
 "nbformat": 4,
 "nbformat_minor": 2
}
